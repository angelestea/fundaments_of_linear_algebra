{
 "cells": [
  {
   "cell_type": "code",
   "execution_count": 1,
   "id": "99abf666",
   "metadata": {},
   "outputs": [],
   "source": [
    "import numpy as np"
   ]
  },
  {
   "cell_type": "code",
   "execution_count": 3,
   "id": "171b2432",
   "metadata": {},
   "outputs": [],
   "source": [
    "escalar = 5.679    \n",
    "vector = np.array ([2,3])\n",
    "matriz =np.array([[1,2],[3,4], [5,6]])"
   ]
  },
  {
   "cell_type": "code",
   "execution_count": 4,
   "id": "8a4e3bc8",
   "metadata": {},
   "outputs": [],
   "source": [
    "A=matriz*vector"
   ]
  },
  {
   "cell_type": "code",
   "execution_count": 5,
   "id": "73a981c8",
   "metadata": {},
   "outputs": [],
   "source": [
    "B=matriz.dot(vector)#Producto interno#"
   ]
  },
  {
   "cell_type": "code",
   "execution_count": 6,
   "id": "5bd1a7a7",
   "metadata": {},
   "outputs": [
    {
     "name": "stdout",
     "output_type": "stream",
     "text": [
      "[[ 2  6]\n",
      " [ 6 12]\n",
      " [10 18]]\n"
     ]
    }
   ],
   "source": [
    "print(A)"
   ]
  },
  {
   "cell_type": "code",
   "execution_count": 7,
   "id": "c311f2b3",
   "metadata": {},
   "outputs": [
    {
     "name": "stdout",
     "output_type": "stream",
     "text": [
      "[ 8 18 28]\n"
     ]
    }
   ],
   "source": [
    "print(B)"
   ]
  },
  {
   "cell_type": "code",
   "execution_count": 8,
   "id": "6ed21dcd",
   "metadata": {},
   "outputs": [
    {
     "name": "stdout",
     "output_type": "stream",
     "text": [
      "[ 8 18 28]\n",
      "[ 8 18 28]\n"
     ]
    }
   ],
   "source": [
    "B=matriz.dot(vector)\n",
    "C= np.dot(matriz, vector)\n",
    "print(B)\n",
    "print(C)"
   ]
  },
  {
   "cell_type": "code",
   "execution_count": 15,
   "id": "4b61dcec",
   "metadata": {},
   "outputs": [
    {
     "name": "stdout",
     "output_type": "stream",
     "text": [
      "[1 2]\n",
      "[[ 1  5]\n",
      " [ 6  8]\n",
      " [ 9 10]]\n"
     ]
    }
   ],
   "source": [
    "# Challenge #\n",
    "vectorTwo= np.array([1,2])\n",
    "matrixTwo=np.array([[1,5],[6,8],[9,10]])\n",
    "print(vectorTwo)\n",
    "print(matrixTwo)"
   ]
  },
  {
   "cell_type": "code",
   "execution_count": 14,
   "id": "2b19b33f",
   "metadata": {},
   "outputs": [
    {
     "name": "stdout",
     "output_type": "stream",
     "text": [
      "[11 22 29]\n",
      "[11 22 29]\n"
     ]
    }
   ],
   "source": [
    "C=matrixTwo.dot(vectorTwo)\n",
    "D=np.dot(matrixTwo,vectorTwo)\n",
    "print(C)\n",
    "print(D)"
   ]
  },
  {
   "cell_type": "code",
   "execution_count": null,
   "id": "e69f49fe",
   "metadata": {},
   "outputs": [],
   "source": []
  }
 ],
 "metadata": {
  "kernelspec": {
   "display_name": "Python 3 (ipykernel)",
   "language": "python",
   "name": "python3"
  },
  "language_info": {
   "codemirror_mode": {
    "name": "ipython",
    "version": 3
   },
   "file_extension": ".py",
   "mimetype": "text/x-python",
   "name": "python",
   "nbconvert_exporter": "python",
   "pygments_lexer": "ipython3",
   "version": "3.7.11"
  }
 },
 "nbformat": 4,
 "nbformat_minor": 5
}
