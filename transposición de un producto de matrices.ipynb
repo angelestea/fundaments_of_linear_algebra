{
 "cells": [
  {
   "cell_type": "code",
   "execution_count": 1,
   "id": "94722cbb",
   "metadata": {},
   "outputs": [],
   "source": [
    "import numpy as np"
   ]
  },
  {
   "cell_type": "code",
   "execution_count": 2,
   "id": "24d2ab5b",
   "metadata": {},
   "outputs": [],
   "source": [
    "A =np.array ([[2,3], [5,7], [11,13]])\n",
    "B =np.array ([[1,3], [2,1]])"
   ]
  },
  {
   "cell_type": "code",
   "execution_count": 3,
   "id": "1be8af8f",
   "metadata": {},
   "outputs": [
    {
     "name": "stdout",
     "output_type": "stream",
     "text": [
      "[[ 2  3]\n",
      " [ 5  7]\n",
      " [11 13]]\n"
     ]
    }
   ],
   "source": [
    "print(A)"
   ]
  },
  {
   "cell_type": "code",
   "execution_count": 4,
   "id": "fafe41da",
   "metadata": {},
   "outputs": [
    {
     "name": "stdout",
     "output_type": "stream",
     "text": [
      "[[1 3]\n",
      " [2 1]]\n"
     ]
    }
   ],
   "source": [
    "print(B)"
   ]
  },
  {
   "cell_type": "code",
   "execution_count": 5,
   "id": "c8745a9b",
   "metadata": {},
   "outputs": [],
   "source": [
    "AB_t=A.dot(B).T"
   ]
  },
  {
   "cell_type": "code",
   "execution_count": 6,
   "id": "a9aa68d8",
   "metadata": {},
   "outputs": [],
   "source": [
    "B_tA_t=B.T.dot(A.T)"
   ]
  },
  {
   "cell_type": "code",
   "execution_count": 7,
   "id": "95105495",
   "metadata": {},
   "outputs": [
    {
     "name": "stdout",
     "output_type": "stream",
     "text": [
      "[[ True  True  True]\n",
      " [ True  True  True]]\n"
     ]
    }
   ],
   "source": [
    "print(AB_t==B_tA_t)"
   ]
  },
  {
   "cell_type": "code",
   "execution_count": null,
   "id": "d6dc887c",
   "metadata": {},
   "outputs": [],
   "source": []
  }
 ],
 "metadata": {
  "kernelspec": {
   "display_name": "Python 3 (ipykernel)",
   "language": "python",
   "name": "python3"
  },
  "language_info": {
   "codemirror_mode": {
    "name": "ipython",
    "version": 3
   },
   "file_extension": ".py",
   "mimetype": "text/x-python",
   "name": "python",
   "nbconvert_exporter": "python",
   "pygments_lexer": "ipython3",
   "version": "3.7.11"
  }
 },
 "nbformat": 4,
 "nbformat_minor": 5
}
