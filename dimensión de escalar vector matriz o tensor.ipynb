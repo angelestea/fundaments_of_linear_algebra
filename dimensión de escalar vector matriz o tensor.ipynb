{
 "cells": [
  {
   "cell_type": "code",
   "execution_count": 1,
   "id": "ef041f7e",
   "metadata": {},
   "outputs": [],
   "source": [
    "import numpy as np"
   ]
  },
  {
   "cell_type": "code",
   "execution_count": 97,
   "id": "c928c56a",
   "metadata": {},
   "outputs": [],
   "source": [
    "escalar = 5.679\n",
    "vector= np.array([1,2,3])\n",
    "matriz=np.array([[1,2],[3,4],[5,6]])\n",
    "tensor = np.array ([\n",
    "[[1,2,3], [4, 5,6], [6,7,8]],\n",
    "[[11,12,13],[14,15,16], [17,18,19]],\n",
    "[[21,22,23], [24,25,26], [27,28,29]],\n",
    "])"
   ]
  },
  {
   "cell_type": "code",
   "execution_count": 70,
   "id": "28d8ef7a",
   "metadata": {},
   "outputs": [
    {
     "name": "stdout",
     "output_type": "stream",
     "text": [
      "5.679\n"
     ]
    }
   ],
   "source": [
    "print(escalar)"
   ]
  },
  {
   "cell_type": "code",
   "execution_count": 71,
   "id": "63909b48",
   "metadata": {},
   "outputs": [
    {
     "ename": "AttributeError",
     "evalue": "'float' object has no attribute 'shape'",
     "output_type": "error",
     "traceback": [
      "\u001b[1;31m---------------------------------------------------------------------------\u001b[0m",
      "\u001b[1;31mAttributeError\u001b[0m                            Traceback (most recent call last)",
      "\u001b[1;32m~\\AppData\\Local\\Temp/ipykernel_3620/2115723219.py\u001b[0m in \u001b[0;36m<module>\u001b[1;34m\u001b[0m\n\u001b[1;32m----> 1\u001b[1;33m \u001b[0mescalar\u001b[0m\u001b[1;33m.\u001b[0m\u001b[0mshape\u001b[0m\u001b[1;33m\u001b[0m\u001b[1;33m\u001b[0m\u001b[0m\n\u001b[0m",
      "\u001b[1;31mAttributeError\u001b[0m: 'float' object has no attribute 'shape'"
     ]
    }
   ],
   "source": [
    "escalar.shape"
   ]
  },
  {
   "cell_type": "code",
   "execution_count": 72,
   "id": "88fc36da",
   "metadata": {},
   "outputs": [
    {
     "data": {
      "text/plain": [
       "(3,)"
      ]
     },
     "execution_count": 72,
     "metadata": {},
     "output_type": "execute_result"
    }
   ],
   "source": [
    "vector.shape"
   ]
  },
  {
   "cell_type": "code",
   "execution_count": 73,
   "id": "160bd6bb",
   "metadata": {},
   "outputs": [
    {
     "name": "stdout",
     "output_type": "stream",
     "text": [
      "[1 2 3]\n"
     ]
    }
   ],
   "source": [
    "print(vector)"
   ]
  },
  {
   "cell_type": "code",
   "execution_count": 74,
   "id": "1b4a5bdc",
   "metadata": {},
   "outputs": [
    {
     "data": {
      "text/plain": [
       "3"
      ]
     },
     "execution_count": 74,
     "metadata": {},
     "output_type": "execute_result"
    }
   ],
   "source": [
    "len(vector)"
   ]
  },
  {
   "cell_type": "code",
   "execution_count": 75,
   "id": "cb7130dd",
   "metadata": {},
   "outputs": [
    {
     "data": {
      "text/plain": [
       "(2, 2)"
      ]
     },
     "execution_count": 75,
     "metadata": {},
     "output_type": "execute_result"
    }
   ],
   "source": [
    "matriz.shape#usar shape en vez de lenght"
   ]
  },
  {
   "cell_type": "code",
   "execution_count": 76,
   "id": "ede836d5",
   "metadata": {},
   "outputs": [
    {
     "name": "stdout",
     "output_type": "stream",
     "text": [
      "[[1 2]\n",
      " [3 4]]\n"
     ]
    }
   ],
   "source": [
    "print(matriz)"
   ]
  },
  {
   "cell_type": "code",
   "execution_count": 77,
   "id": "101dcd79",
   "metadata": {},
   "outputs": [
    {
     "data": {
      "text/plain": [
       "2"
      ]
     },
     "execution_count": 77,
     "metadata": {},
     "output_type": "execute_result"
    }
   ],
   "source": [
    "len(matriz)"
   ]
  },
  {
   "cell_type": "code",
   "execution_count": 78,
   "id": "98336f74",
   "metadata": {},
   "outputs": [
    {
     "name": "stdout",
     "output_type": "stream",
     "text": [
      "4\n"
     ]
    }
   ],
   "source": [
    "print(matriz.size)"
   ]
  },
  {
   "cell_type": "code",
   "execution_count": 79,
   "id": "76744e7a",
   "metadata": {},
   "outputs": [
    {
     "name": "stdout",
     "output_type": "stream",
     "text": [
      "(3, 3, 3)\n"
     ]
    }
   ],
   "source": [
    "print(tensor.shape)"
   ]
  },
  {
   "cell_type": "code",
   "execution_count": 80,
   "id": "8b58c580",
   "metadata": {},
   "outputs": [
    {
     "name": "stdout",
     "output_type": "stream",
     "text": [
      "[[[ 1  2  3]\n",
      "  [ 4  5  6]\n",
      "  [ 6  7  8]]\n",
      "\n",
      " [[11 12 13]\n",
      "  [14 15 16]\n",
      "  [17 18 19]]\n",
      "\n",
      " [[21 22 23]\n",
      "  [24 25 26]\n",
      "  [27 28 29]]]\n"
     ]
    }
   ],
   "source": [
    "print(tensor)"
   ]
  },
  {
   "cell_type": "code",
   "execution_count": 81,
   "id": "77695658",
   "metadata": {},
   "outputs": [
    {
     "name": "stdout",
     "output_type": "stream",
     "text": [
      "27\n"
     ]
    }
   ],
   "source": [
    "print(tensor.size)"
   ]
  },
  {
   "cell_type": "code",
   "execution_count": 82,
   "id": "9dbfe3da",
   "metadata": {},
   "outputs": [],
   "source": [
    "#Challenge´s class"
   ]
  },
  {
   "cell_type": "code",
   "execution_count": 64,
   "id": "aa133ff5",
   "metadata": {},
   "outputs": [],
   "source": [
    "vectorChallenge= np.array([8,2,3,9,8,7,10])\n",
    "matrixChallenge=np.array([[1,2,4,6,5,10],[7,8,9,10,78,3]])\n",
    "tensorChallenge = np.array ([\n",
    "[[1,2,3], [4, 5,6], [6,7,8]],\n",
    "[[11,12,13],[14,15,16], [17,18,19]],\n",
    "[[21,22,23], [24,25,26], [27,28,29]],\n",
    "])"
   ]
  },
  {
   "cell_type": "code",
   "execution_count": 56,
   "id": "f252cbc4",
   "metadata": {},
   "outputs": [
    {
     "name": "stdout",
     "output_type": "stream",
     "text": [
      "7\n"
     ]
    }
   ],
   "source": [
    "print(vectorChallenge.size)"
   ]
  },
  {
   "cell_type": "code",
   "execution_count": 57,
   "id": "21c38932",
   "metadata": {},
   "outputs": [
    {
     "name": "stdout",
     "output_type": "stream",
     "text": [
      "(2, 6)\n"
     ]
    }
   ],
   "source": [
    "print(matrixChallenge.shape)"
   ]
  },
  {
   "cell_type": "code",
   "execution_count": 60,
   "id": "f9ff3477",
   "metadata": {},
   "outputs": [
    {
     "name": "stdout",
     "output_type": "stream",
     "text": [
      "(7,)\n"
     ]
    }
   ],
   "source": [
    "print(vectorChallenge.shape)"
   ]
  },
  {
   "cell_type": "code",
   "execution_count": 66,
   "id": "2fe9847e",
   "metadata": {},
   "outputs": [
    {
     "name": "stdout",
     "output_type": "stream",
     "text": [
      "27\n"
     ]
    }
   ],
   "source": [
    "print(tensorChallenge.size)"
   ]
  },
  {
   "cell_type": "code",
   "execution_count": 67,
   "id": "ef6bc80d",
   "metadata": {},
   "outputs": [
    {
     "name": "stdout",
     "output_type": "stream",
     "text": [
      "(3, 3, 3)\n"
     ]
    }
   ],
   "source": [
    "print(tensorChallenge.shape)"
   ]
  },
  {
   "cell_type": "code",
   "execution_count": 83,
   "id": "3729d2a8",
   "metadata": {},
   "outputs": [],
   "source": [
    "#Transpositions#"
   ]
  },
  {
   "cell_type": "code",
   "execution_count": 84,
   "id": "dab2d70d",
   "metadata": {},
   "outputs": [
    {
     "ename": "AttributeError",
     "evalue": "'float' object has no attribute 't'",
     "output_type": "error",
     "traceback": [
      "\u001b[1;31m---------------------------------------------------------------------------\u001b[0m",
      "\u001b[1;31mAttributeError\u001b[0m                            Traceback (most recent call last)",
      "\u001b[1;32m~\\AppData\\Local\\Temp/ipykernel_3620/388174069.py\u001b[0m in \u001b[0;36m<module>\u001b[1;34m\u001b[0m\n\u001b[1;32m----> 1\u001b[1;33m \u001b[0mescalar_t\u001b[0m\u001b[1;33m=\u001b[0m\u001b[0mescalar\u001b[0m\u001b[1;33m.\u001b[0m\u001b[0mt\u001b[0m\u001b[1;33m\u001b[0m\u001b[1;33m\u001b[0m\u001b[0m\n\u001b[0m",
      "\u001b[1;31mAttributeError\u001b[0m: 'float' object has no attribute 't'"
     ]
    }
   ],
   "source": [
    "escalar_t=escalar.t"
   ]
  },
  {
   "cell_type": "code",
   "execution_count": 90,
   "id": "927c180d",
   "metadata": {},
   "outputs": [
    {
     "name": "stdout",
     "output_type": "stream",
     "text": [
      "First with not transposition: [1 2 3]\n",
      "Second with transposition: [1 2 3]\n"
     ]
    }
   ],
   "source": [
    "vector_t=vector.T\n",
    "print(\"Array with none transposition:\",vector)\n",
    "print(\"Array with transposition:\",vector_t)"
   ]
  },
  {
   "cell_type": "code",
   "execution_count": 98,
   "id": "dca9e9bc",
   "metadata": {},
   "outputs": [
    {
     "name": "stdout",
     "output_type": "stream",
     "text": [
      "Matrix with none transposition: \n",
      " [[1 2]\n",
      " [3 4]\n",
      " [5 6]]\n",
      "Matrix with transposition: \n",
      " [[1 3 5]\n",
      " [2 4 6]]\n"
     ]
    }
   ],
   "source": [
    "matriz_t=matriz.T\n",
    "print(\"Matrix with none transposition: \\n\",matriz)\n",
    "print(\"Matrix with transposition: \\n\",matriz.T)"
   ]
  },
  {
   "cell_type": "code",
   "execution_count": 102,
   "id": "2980fb89",
   "metadata": {},
   "outputs": [
    {
     "name": "stdout",
     "output_type": "stream",
     "text": [
      "(2, 1)\n"
     ]
    }
   ],
   "source": [
    "matrixTwo=np.array([[1],[2]])\n",
    "print(matrixTwo.shape)"
   ]
  },
  {
   "cell_type": "code",
   "execution_count": 103,
   "id": "eb8ebae0",
   "metadata": {},
   "outputs": [
    {
     "name": "stdout",
     "output_type": "stream",
     "text": [
      "(3, 2)\n"
     ]
    }
   ],
   "source": [
    "print(matriz.shape)"
   ]
  },
  {
   "cell_type": "code",
   "execution_count": 104,
   "id": "b1b34901",
   "metadata": {},
   "outputs": [
    {
     "name": "stdout",
     "output_type": "stream",
     "text": [
      "(2, 3)\n"
     ]
    }
   ],
   "source": [
    "print(matriz_t.shape)"
   ]
  },
  {
   "cell_type": "code",
   "execution_count": 107,
   "id": "d1b51bae",
   "metadata": {},
   "outputs": [
    {
     "name": "stdout",
     "output_type": "stream",
     "text": [
      "Tensor none transposite: \n",
      " [[[ 1  2  3]\n",
      "  [ 4  5  6]\n",
      "  [ 6  7  8]]\n",
      "\n",
      " [[11 12 13]\n",
      "  [14 15 16]\n",
      "  [17 18 19]]\n",
      "\n",
      " [[21 22 23]\n",
      "  [24 25 26]\n",
      "  [27 28 29]]]\n",
      "Tensor transposite: \n",
      " [[[ 1 11 21]\n",
      "  [ 4 14 24]\n",
      "  [ 6 17 27]]\n",
      "\n",
      " [[ 2 12 22]\n",
      "  [ 5 15 25]\n",
      "  [ 7 18 28]]\n",
      "\n",
      " [[ 3 13 23]\n",
      "  [ 6 16 26]\n",
      "  [ 8 19 29]]]\n"
     ]
    }
   ],
   "source": [
    "tensor_t=tensor.T\n",
    "print(\"Tensor none transposite: \\n\",tensor)\n",
    "print(\"Tensor transposite: \\n\", tensor_t)"
   ]
  },
  {
   "cell_type": "code",
   "execution_count": 118,
   "id": "47bcb1a2",
   "metadata": {},
   "outputs": [],
   "source": [
    "escalar = 5.679\n",
    "vector = np.array([3,4,5,61])\n",
    "matriz = np.array([[1,2],[3,4],[5,6]])\n",
    "tensor=np.array([\n",
    "    [[1,2,3,30],[4,5,6,31],[17,18,19,35]],\n",
    "    [[11,12,13,33],[14,15,16,34],[17,18,19,35]],\n",
    "    [[21,22,23,36],[24,25,26,37],[27,28,29,38]],\n",
    "])"
   ]
  },
  {
   "cell_type": "code",
   "execution_count": 119,
   "id": "825ee0d8",
   "metadata": {},
   "outputs": [
    {
     "ename": "AttributeError",
     "evalue": "'float' object has no attribute 'T'",
     "output_type": "error",
     "traceback": [
      "\u001b[1;31m---------------------------------------------------------------------------\u001b[0m",
      "\u001b[1;31mAttributeError\u001b[0m                            Traceback (most recent call last)",
      "\u001b[1;32m~\\AppData\\Local\\Temp/ipykernel_3620/3460880161.py\u001b[0m in \u001b[0;36m<module>\u001b[1;34m\u001b[0m\n\u001b[1;32m----> 1\u001b[1;33m \u001b[0mescalar_t\u001b[0m\u001b[1;33m=\u001b[0m\u001b[0mescalar\u001b[0m\u001b[1;33m.\u001b[0m\u001b[0mT\u001b[0m\u001b[1;33m\u001b[0m\u001b[1;33m\u001b[0m\u001b[0m\n\u001b[0m",
      "\u001b[1;31mAttributeError\u001b[0m: 'float' object has no attribute 'T'"
     ]
    }
   ],
   "source": [
    "escalar_t=escalar.T"
   ]
  },
  {
   "cell_type": "code",
   "execution_count": 121,
   "id": "bddcc233",
   "metadata": {},
   "outputs": [
    {
     "name": "stdout",
     "output_type": "stream",
     "text": [
      "[ 3  4  5 61]\n"
     ]
    }
   ],
   "source": [
    "vector_t=vector.T\n",
    "print(vector_t)"
   ]
  },
  {
   "cell_type": "code",
   "execution_count": 123,
   "id": "24e955a4",
   "metadata": {},
   "outputs": [
    {
     "name": "stdout",
     "output_type": "stream",
     "text": [
      "[[1 3 5]\n",
      " [2 4 6]]\n"
     ]
    }
   ],
   "source": [
    "matriz_t=matriz.T\n",
    "print(matriz_t)"
   ]
  },
  {
   "cell_type": "code",
   "execution_count": 124,
   "id": "f2764db8",
   "metadata": {},
   "outputs": [
    {
     "name": "stdout",
     "output_type": "stream",
     "text": [
      "(2, 3)\n"
     ]
    }
   ],
   "source": [
    "print(matriz_t.shape)"
   ]
  },
  {
   "cell_type": "code",
   "execution_count": 125,
   "id": "04b8e6b1",
   "metadata": {},
   "outputs": [
    {
     "name": "stdout",
     "output_type": "stream",
     "text": [
      "(3, 2)\n"
     ]
    }
   ],
   "source": [
    "print(matriz.shape)"
   ]
  },
  {
   "cell_type": "code",
   "execution_count": 126,
   "id": "4aaff091",
   "metadata": {},
   "outputs": [
    {
     "name": "stdout",
     "output_type": "stream",
     "text": [
      "[[[ 1 11 21]\n",
      "  [ 4 14 24]\n",
      "  [17 17 27]]\n",
      "\n",
      " [[ 2 12 22]\n",
      "  [ 5 15 25]\n",
      "  [18 18 28]]\n",
      "\n",
      " [[ 3 13 23]\n",
      "  [ 6 16 26]\n",
      "  [19 19 29]]\n",
      "\n",
      " [[30 33 36]\n",
      "  [31 34 37]\n",
      "  [35 35 38]]]\n"
     ]
    }
   ],
   "source": [
    "tensor_t=tensor.T\n",
    "print(tensor_t)"
   ]
  },
  {
   "cell_type": "code",
   "execution_count": 127,
   "id": "56294354",
   "metadata": {},
   "outputs": [
    {
     "name": "stdout",
     "output_type": "stream",
     "text": [
      "[[[ 1  2  3 30]\n",
      "  [ 4  5  6 31]\n",
      "  [17 18 19 35]]\n",
      "\n",
      " [[11 12 13 33]\n",
      "  [14 15 16 34]\n",
      "  [17 18 19 35]]\n",
      "\n",
      " [[21 22 23 36]\n",
      "  [24 25 26 37]\n",
      "  [27 28 29 38]]]\n"
     ]
    }
   ],
   "source": [
    "print(tensor)"
   ]
  },
  {
   "cell_type": "code",
   "execution_count": 129,
   "id": "59e0cf2b",
   "metadata": {},
   "outputs": [],
   "source": [
    "#The trasnpuest form for another transpuest form to matrix is equal to matrix base#"
   ]
  },
  {
   "cell_type": "code",
   "execution_count": 133,
   "id": "58a1110b",
   "metadata": {},
   "outputs": [
    {
     "name": "stdout",
     "output_type": "stream",
     "text": [
      "[[1 2]\n",
      " [3 4]\n",
      " [5 6]]\n"
     ]
    }
   ],
   "source": [
    "matriz_t_t=matriz_t.T\n",
    "print(matriz_t_t)"
   ]
  },
  {
   "cell_type": "code",
   "execution_count": 134,
   "id": "d43e4575",
   "metadata": {},
   "outputs": [
    {
     "name": "stdout",
     "output_type": "stream",
     "text": [
      "[[1 2]\n",
      " [3 4]\n",
      " [5 6]]\n"
     ]
    }
   ],
   "source": [
    "print(matriz)"
   ]
  },
  {
   "cell_type": "code",
   "execution_count": 135,
   "id": "3c60eb67",
   "metadata": {},
   "outputs": [],
   "source": [
    "#matrix´s sume#"
   ]
  },
  {
   "cell_type": "code",
   "execution_count": 138,
   "id": "5eb0fd84",
   "metadata": {},
   "outputs": [],
   "source": [
    "A=matriz\n",
    "B=matriz_t"
   ]
  },
  {
   "cell_type": "code",
   "execution_count": 139,
   "id": "aafcb95d",
   "metadata": {},
   "outputs": [
    {
     "ename": "ValueError",
     "evalue": "operands could not be broadcast together with shapes (3,2) (2,3) ",
     "output_type": "error",
     "traceback": [
      "\u001b[1;31m---------------------------------------------------------------------------\u001b[0m",
      "\u001b[1;31mValueError\u001b[0m                                Traceback (most recent call last)",
      "\u001b[1;32m~\\AppData\\Local\\Temp/ipykernel_3620/4212634872.py\u001b[0m in \u001b[0;36m<module>\u001b[1;34m\u001b[0m\n\u001b[1;32m----> 1\u001b[1;33m \u001b[0mC\u001b[0m\u001b[1;33m=\u001b[0m\u001b[0mA\u001b[0m\u001b[1;33m+\u001b[0m\u001b[0mB\u001b[0m\u001b[1;33m\u001b[0m\u001b[1;33m\u001b[0m\u001b[0m\n\u001b[0m",
      "\u001b[1;31mValueError\u001b[0m: operands could not be broadcast together with shapes (3,2) (2,3) "
     ]
    }
   ],
   "source": [
    "C=A+B"
   ]
  },
  {
   "cell_type": "code",
   "execution_count": 140,
   "id": "83ae1ab5",
   "metadata": {},
   "outputs": [
    {
     "name": "stdout",
     "output_type": "stream",
     "text": [
      "Matrix A: \n",
      " [[1 2]\n",
      " [3 4]\n",
      " [5 6]] \n",
      "\n",
      "Matrix B: \n",
      " [[6 5]\n",
      " [4 3]\n",
      " [2 1]] \n",
      "\n",
      "Matrix C: \n",
      " [[7 7]\n",
      " [7 7]\n",
      " [7 7]] \n",
      "\n"
     ]
    }
   ],
   "source": [
    "A=np.array([[1,2],[3,4],[5,6]])\n",
    "B=np.array([[6,5],[4,3],[2,1]])\n",
    "C=A+B\n",
    "print(\"Matrix A: \\n\", A,\"\\n\")\n",
    "print(\"Matrix B: \\n\", B,\"\\n\")\n",
    "print(\"Matrix C: \\n\", C,\"\\n\")"
   ]
  },
  {
   "cell_type": "code",
   "execution_count": 144,
   "id": "8d5cbdec",
   "metadata": {},
   "outputs": [
    {
     "name": "stdout",
     "output_type": "stream",
     "text": [
      "5.679\n"
     ]
    }
   ],
   "source": [
    "D=matriz+escalar\n",
    "print(escalar)"
   ]
  },
  {
   "cell_type": "code",
   "execution_count": 143,
   "id": "f68aa47a",
   "metadata": {},
   "outputs": [
    {
     "name": "stdout",
     "output_type": "stream",
     "text": [
      "Sume´s matrix with scalar number: \n",
      " [[ 6.679  7.679]\n",
      " [ 8.679  9.679]\n",
      " [10.679 11.679]]\n"
     ]
    }
   ],
   "source": [
    "print(\"Sume´s matrix with scalar number: \\n\", D)"
   ]
  },
  {
   "cell_type": "code",
   "execution_count": 145,
   "id": "0fbe01a5",
   "metadata": {},
   "outputs": [
    {
     "name": "stdout",
     "output_type": "stream",
     "text": [
      "[[1 2 3 4 5]\n",
      " [1 2 3 4 5]\n",
      " [1 2 3 4 5]\n",
      " [1 2 3 4 5]\n",
      " [1 2 3 4 5]]\n"
     ]
    }
   ],
   "source": [
    "matrixFiveXFive=np.array([[1,2,3,4,5],[1,2,3,4,5],[1,2,3,4,5],[1,2,3,4,5],[1,2,3,4,5]])\n",
    "print(matrixFiveXFive)"
   ]
  },
  {
   "cell_type": "code",
   "execution_count": 146,
   "id": "0b304e09",
   "metadata": {},
   "outputs": [
    {
     "name": "stdout",
     "output_type": "stream",
     "text": [
      "[[1 1 1 1 1]\n",
      " [2 2 2 2 2]\n",
      " [3 3 3 3 3]\n",
      " [4 4 4 4 4]\n",
      " [5 5 5 5 5]]\n"
     ]
    }
   ],
   "source": [
    "matrixFiveXFive_t=matrixFiveXFive.T\n",
    "print(matrixFiveXFive_t)"
   ]
  },
  {
   "cell_type": "code",
   "execution_count": 147,
   "id": "61300f27",
   "metadata": {},
   "outputs": [
    {
     "name": "stdout",
     "output_type": "stream",
     "text": [
      "[[ 2  3  4  5  6]\n",
      " [ 3  4  5  6  7]\n",
      " [ 4  5  6  7  8]\n",
      " [ 5  6  7  8  9]\n",
      " [ 6  7  8  9 10]]\n"
     ]
    }
   ],
   "source": [
    "sumeOfTheseMatrix=matrixFiveXFive+matrixFiveXFive_t\n",
    "print(sumeOfTheseMatrix)"
   ]
  },
  {
   "cell_type": "code",
   "execution_count": null,
   "id": "5a970d50",
   "metadata": {},
   "outputs": [],
   "source": []
  }
 ],
 "metadata": {
  "kernelspec": {
   "display_name": "Python 3 (ipykernel)",
   "language": "python",
   "name": "python3"
  },
  "language_info": {
   "codemirror_mode": {
    "name": "ipython",
    "version": 3
   },
   "file_extension": ".py",
   "mimetype": "text/x-python",
   "name": "python",
   "nbconvert_exporter": "python",
   "pygments_lexer": "ipython3",
   "version": "3.7.11"
  }
 },
 "nbformat": 4,
 "nbformat_minor": 5
}
