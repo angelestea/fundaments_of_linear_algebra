{
 "cells": [
  {
   "cell_type": "code",
   "execution_count": 1,
   "id": "26c944d7",
   "metadata": {},
   "outputs": [],
   "source": [
    "import numpy as np"
   ]
  },
  {
   "cell_type": "code",
   "execution_count": 5,
   "id": "228d5d65",
   "metadata": {},
   "outputs": [],
   "source": [
    "A=np.array ([[2,3], [5,7], [11,13]])\n",
    "B=np.array ([[1,3], [2,1]])\n",
    "C=np.array([[3,1],[4,2]])"
   ]
  },
  {
   "cell_type": "code",
   "execution_count": 7,
   "id": "4c1a2b8b",
   "metadata": {},
   "outputs": [
    {
     "name": "stdout",
     "output_type": "stream",
     "text": [
      "[[ 60  26]\n",
      " [145  63]\n",
      " [295 129]]\n"
     ]
    }
   ],
   "source": [
    "# Asociativa\n",
    "ABC=A.dot(B.dot(C))\n",
    "print(ABC)"
   ]
  },
  {
   "cell_type": "code",
   "execution_count": 8,
   "id": "82ac8f56",
   "metadata": {},
   "outputs": [
    {
     "name": "stdout",
     "output_type": "stream",
     "text": [
      "[[ 60  26]\n",
      " [145  63]\n",
      " [295 129]]\n"
     ]
    }
   ],
   "source": [
    "AB_C=A.dot(B).dot(C)\n",
    "print(AB_C)"
   ]
  },
  {
   "cell_type": "code",
   "execution_count": 9,
   "id": "e5f82dce",
   "metadata": {},
   "outputs": [
    {
     "name": "stdout",
     "output_type": "stream",
     "text": [
      "[[ 26  17]\n",
      " [ 62  41]\n",
      " [122  83]]\n",
      "[[ 26  17]\n",
      " [ 62  41]\n",
      " [122  83]]\n"
     ]
    }
   ],
   "source": [
    "#Distributiva\n",
    "D=A.dot(B+C)\n",
    "E=(A.dot(B)+(A.dot(C)))\n",
    "print(D)\n",
    "print(E)"
   ]
  },
  {
   "cell_type": "code",
   "execution_count": 10,
   "id": "dddbcd17",
   "metadata": {},
   "outputs": [
    {
     "name": "stdout",
     "output_type": "stream",
     "text": [
      "[[ True  True]\n",
      " [ True  True]\n",
      " [ True  True]]\n"
     ]
    }
   ],
   "source": [
    "print(D==E)"
   ]
  },
  {
   "cell_type": "code",
   "execution_count": 17,
   "id": "4da571d3",
   "metadata": {},
   "outputs": [],
   "source": [
    "#Multiplicación de matrices no es conmutativa\n",
    "F=B.dot(C)"
   ]
  },
  {
   "cell_type": "code",
   "execution_count": 12,
   "id": "200bd2a2",
   "metadata": {},
   "outputs": [],
   "source": [
    "G=C.dot(B)"
   ]
  },
  {
   "cell_type": "code",
   "execution_count": 13,
   "id": "ba3499ac",
   "metadata": {},
   "outputs": [
    {
     "name": "stdout",
     "output_type": "stream",
     "text": [
      "[[False False]\n",
      " [False False]]\n"
     ]
    }
   ],
   "source": [
    "print(F==G)"
   ]
  },
  {
   "cell_type": "code",
   "execution_count": 15,
   "id": "03ede8e4",
   "metadata": {},
   "outputs": [
    {
     "name": "stdout",
     "output_type": "stream",
     "text": [
      "[[15  7]\n",
      " [10  4]]\n"
     ]
    }
   ],
   "source": [
    "print(F)"
   ]
  },
  {
   "cell_type": "code",
   "execution_count": 16,
   "id": "9e797360",
   "metadata": {},
   "outputs": [
    {
     "name": "stdout",
     "output_type": "stream",
     "text": [
      "[[ 5 10]\n",
      " [ 8 14]]\n"
     ]
    }
   ],
   "source": [
    "print(G)"
   ]
  },
  {
   "cell_type": "code",
   "execution_count": 18,
   "id": "ac549c85",
   "metadata": {},
   "outputs": [],
   "source": [
    "#Multiplicación de véctores si es conmutativa"
   ]
  },
  {
   "cell_type": "code",
   "execution_count": 19,
   "id": "2da9e0be",
   "metadata": {},
   "outputs": [],
   "source": [
    "v1=np.array([[2],[7]])\n",
    "v2=np.array([[3],[5]])"
   ]
  },
  {
   "cell_type": "code",
   "execution_count": 20,
   "id": "08cb73e7",
   "metadata": {},
   "outputs": [],
   "source": [
    "v1_tv2=v1.T.dot(v2)\n",
    "v2_tv1=v2.T.dot(v1)"
   ]
  },
  {
   "cell_type": "code",
   "execution_count": 21,
   "id": "2f4c6095",
   "metadata": {},
   "outputs": [
    {
     "name": "stdout",
     "output_type": "stream",
     "text": [
      "[[41]]\n"
     ]
    }
   ],
   "source": [
    "print(v1_tv2)"
   ]
  },
  {
   "cell_type": "code",
   "execution_count": 22,
   "id": "f96d439a",
   "metadata": {},
   "outputs": [
    {
     "name": "stdout",
     "output_type": "stream",
     "text": [
      "[[41]]\n"
     ]
    }
   ],
   "source": [
    "print(v2_tv1)"
   ]
  },
  {
   "cell_type": "code",
   "execution_count": 24,
   "id": "28eb5fa0",
   "metadata": {},
   "outputs": [],
   "source": [
    "#Challenge´s class\n",
    "matrixOne=np.array([[5,4,9],[9,7,8],[10,48,7],[1,4,9]])\n",
    "matrixTwo=np.array([[5,6],[7,9],[10,5]])"
   ]
  },
  {
   "cell_type": "code",
   "execution_count": 25,
   "id": "a101bc67",
   "metadata": {},
   "outputs": [],
   "source": [
    "matrixProduct=matrixOne.dot(matrixTwo)"
   ]
  },
  {
   "cell_type": "code",
   "execution_count": 26,
   "id": "e851ad0a",
   "metadata": {},
   "outputs": [
    {
     "name": "stdout",
     "output_type": "stream",
     "text": [
      "[[143 111]\n",
      " [174 157]\n",
      " [456 527]\n",
      " [123  87]]\n"
     ]
    }
   ],
   "source": [
    "print(matrixProduct)"
   ]
  },
  {
   "cell_type": "code",
   "execution_count": null,
   "id": "25c31712",
   "metadata": {},
   "outputs": [],
   "source": []
  }
 ],
 "metadata": {
  "kernelspec": {
   "display_name": "Python 3 (ipykernel)",
   "language": "python",
   "name": "python3"
  },
  "language_info": {
   "codemirror_mode": {
    "name": "ipython",
    "version": 3
   },
   "file_extension": ".py",
   "mimetype": "text/x-python",
   "name": "python",
   "nbconvert_exporter": "python",
   "pygments_lexer": "ipython3",
   "version": "3.7.11"
  }
 },
 "nbformat": 4,
 "nbformat_minor": 5
}
